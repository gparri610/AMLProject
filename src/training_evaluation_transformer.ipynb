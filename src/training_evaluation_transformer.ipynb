{
 "cells": [
  {
   "cell_type": "markdown",
   "metadata": {},
   "source": [
    "# Training and Evaluation for Transformer (Encoder & Decoder)\n",
    "This model takes the feature sequence and also the target sequence as input. This is different to the other models which is why there is a seperate notebook for training and evaluation."
   ]
  },
  {
   "cell_type": "code",
   "execution_count": 1,
   "metadata": {},
   "outputs": [],
   "source": [
    "import torch\n",
    "import torch.nn as nn\n",
    "from benchmarks import EncoderDecoderTransformer"
   ]
  },
  {
   "cell_type": "markdown",
   "metadata": {},
   "source": [
    "## Training"
   ]
  },
  {
   "cell_type": "code",
   "execution_count": 33,
   "metadata": {},
   "outputs": [],
   "source": [
    "#hyperparameters and utilities\n",
    "sequence_length = 10\n",
    "batch_size = 64\n",
    "n_head = 13\n",
    "learning_rate = 0.005\n",
    "epochs = 5\n",
    "dropout_rate = 0.3\n",
    "hidden_size = 25"
   ]
  },
  {
   "cell_type": "code",
   "execution_count": 34,
   "metadata": {},
   "outputs": [],
   "source": [
    "batches_train = torch.load(\"processed_data/batches_train.pt\")\n",
    "batches_val = torch.load(\"processed_data/batches_validation.pt\")\n",
    "batches_test = torch.load(\"processed_data/batches_test.pt\")"
   ]
  },
  {
   "cell_type": "code",
   "execution_count": 23,
   "metadata": {},
   "outputs": [],
   "source": [
    "from tqdm import tqdm\n",
    "import random\n",
    "\n",
    "def train(model, epochs: int, train_batches: list[torch.Tensor], validation_batches: list[torch.Tensor], n_timestamps: int = 10, learning_rate: float = 0.001):\n",
    "    # Check if GPU is available and use it; otherwise, use CPU\n",
    "    device = torch.device(\"cuda\" if torch.cuda.is_available() else \"cpu\")\n",
    "    print(f\"Training on {device}\")\n",
    "    \n",
    "    # Move the model to the appropriate device\n",
    "    model.to(device)\n",
    "\n",
    "    # Set up the loss function and optimizer\n",
    "    lossFunction = torch.nn.MSELoss()\n",
    "    optimizer = torch.optim.Adam(model.parameters(), lr=learning_rate)\n",
    "\n",
    "    training_loss_progression = []\n",
    "    validation_loss_progression = []\n",
    "\n",
    "    # Training loop\n",
    "    for epoch in range(epochs):\n",
    "        model.train() # Set the model to training mode\n",
    "        totalLoss = 0\n",
    "        random.shuffle(train_batches) # Shuffling the training batches\n",
    "        for i in tqdm(range(len(train_batches))):\n",
    "            # Prepare Data and move it to the appropriate device\n",
    "            batch = train_batches[i]\n",
    "            x = batch[:,:,:-1].to(device)\n",
    "            tgt = batch[:,:,-1].unsqueeze(-1).to(device)\n",
    "            t = batch[:,-1,-1].reshape(-1,1).to(device)\n",
    "\n",
    "            # Zero the parameter gradients\n",
    "            optimizer.zero_grad()\n",
    "\n",
    "            # Forward + backward + optimize\n",
    "            y = model(x, tgt)\n",
    "            loss = lossFunction(y, t)\n",
    "            loss.backward()\n",
    "            torch.nn.utils.clip_grad_norm_(model.parameters(), max_norm=1.0) # Clipping the gradient to avoid exploding gradients\n",
    "            optimizer.step()\n",
    "\n",
    "            # Storing the batch loss\n",
    "            totalLoss += loss.item()\n",
    "        # Storing the epoch training loss\n",
    "        training_loss_progression.append(totalLoss)\n",
    "\n",
    "        # Validation loop\n",
    "        model.eval()\n",
    "        with torch.no_grad():\n",
    "            totalLoss = 0\n",
    "            for i in tqdm(range(len(validation_batches))):\n",
    "                # Prepare Data and move it to the appropriate device\n",
    "                batch = validation_batches[i]\n",
    "                x = batch[:,:,:-1].to(device)\n",
    "                tgt = batch[:,:,-1].unsqueeze(-1).to(device)\n",
    "                t = batch[:,-1,-1].reshape(-1,1).to(device)\n",
    "\n",
    "                # Forward pass: compute the model's predictions\n",
    "                y = model(x, tgt)\n",
    "\n",
    "                # Comput batch loss and store it\n",
    "                loss = lossFunction(y, t)\n",
    "                totalLoss += loss.item()\n",
    "            # Storing the epoch validation loss\n",
    "            validation_loss_progression.append(totalLoss)\n",
    "\n",
    "\n",
    "    return training_loss_progression, validation_loss_progression"
   ]
  },
  {
   "cell_type": "code",
   "execution_count": 24,
   "metadata": {},
   "outputs": [],
   "source": [
    "model = EncoderDecoderTransformer(src_feat_dim=65, tgt_feat_dim=1, dim_model=4, num_heads=4, num_layers=3, dropout=0.1)\n",
    "\n",
    "trainable_params = sum(p.numel() for p in model.parameters() if p.requires_grad)\n",
    "print(f'Number of Trainable Parameters: {trainable_params}')"
   ]
  },
  {
   "cell_type": "code",
   "execution_count": null,
   "metadata": {},
   "outputs": [],
   "source": [
    "training_loss, validation_loss = train(model, epochs=epochs, train_batches=batches_train,  validation_batches=batches_val, n_timestamps=sequence_length, learning_rate=learning_rate)"
   ]
  },
  {
   "cell_type": "code",
   "execution_count": null,
   "metadata": {},
   "outputs": [],
   "source": [
    "model_saving_path = \"modelDumps/EncoderDecoderTransformer.pt\"\n",
    "import os\n",
    "if not os.path.exists('modelDumps'):\n",
    "    os.makedirs('modelDumps')\n",
    "torch.save(model, model_saving_path)"
   ]
  },
  {
   "cell_type": "markdown",
   "metadata": {},
   "source": [
    "## Evaluation"
   ]
  },
  {
   "cell_type": "code",
   "execution_count": null,
   "metadata": {},
   "outputs": [],
   "source": [
    "def evaluate(model, batches_test):\n",
    "    device = torch.device(\"cuda\" if torch.cuda.is_available() else \"cpu\")\n",
    "\n",
    "    lossFunction = torch.nn.MSELoss()\n",
    "\n",
    "    model.to(device)\n",
    "    model.eval()\n",
    "    with torch.no_grad():\n",
    "        totalLoss = 0\n",
    "        for i in tqdm(range(len(batches_test))):\n",
    "            # Prepare Data and move it to the appropriate device\n",
    "            batch = batches_test[i]\n",
    "            x = batch[:,:,:-1].to(device)\n",
    "            tgt = batch[:,:,-1].unsqueeze(-1).to(device)\n",
    "            t = batch[:,-1,-1].reshape(-1,1).to(device)\n",
    "\n",
    "            # Forward pass: compute the model's predictions\n",
    "            y = model(x, tgt)\n",
    "\n",
    "            # Comput batch loss and store it\n",
    "            loss = lossFunction(y, t)\n",
    "            totalLoss += loss.item()\n",
    "                \n",
    "    return totalLoss"
   ]
  },
  {
   "cell_type": "code",
   "execution_count": null,
   "metadata": {},
   "outputs": [],
   "source": [
    "test_loss = evaluate(model, batches_test)\n",
    "print(f'Test Loss: {test_loss}')"
   ]
  }
 ],
 "metadata": {
  "kernelspec": {
   "display_name": "Python 3",
   "language": "python",
   "name": "python3"
  },
  "language_info": {
   "codemirror_mode": {
    "name": "ipython",
    "version": 3
   },
   "file_extension": ".py",
   "mimetype": "text/x-python",
   "name": "python",
   "nbconvert_exporter": "python",
   "pygments_lexer": "ipython3",
   "version": "3.12.3"
  }
 },
 "nbformat": 4,
 "nbformat_minor": 2
}
