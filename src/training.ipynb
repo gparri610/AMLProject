{
 "cells": [
  {
   "cell_type": "markdown",
   "metadata": {},
   "source": [
    "# Training\n",
    "This notebook contains the implementation for training and hyperparameter optimization."
   ]
  },
  {
   "cell_type": "code",
   "execution_count": 1,
   "metadata": {},
   "outputs": [],
   "source": [
    "import pandas as pd\n",
    "import torch\n",
    "import numpy as np\n",
    "from benchmarks import RandomForest, LSTMModel, TransformerEncoderModel, EncoderDecoderTransformer\n",
    "from models import IMHAMomentumTransformer, SelfAttentionMomentumTransformer, GRUMomentumTransformer, CNNMomentumTransformer\n",
    "import random"
   ]
  },
  {
   "cell_type": "markdown",
   "metadata": {},
   "source": [
    "## Data Loading\n",
    "\n",
    "Loading the Data prepared in the notebook \"data_preparation_real_data\"."
   ]
  },
  {
   "cell_type": "code",
   "execution_count": 2,
   "metadata": {},
   "outputs": [],
   "source": [
    "batches_train = torch.load(\"processed_data/batches_train.pt\")\n",
    "batches_val = torch.load(\"processed_data/batches_validation.pt\")\n",
    "batches_test = torch.load(\"processed_data/batches_test.pt\")"
   ]
  },
  {
   "cell_type": "markdown",
   "metadata": {},
   "source": [
    "## Training"
   ]
  },
  {
   "cell_type": "code",
   "execution_count": 6,
   "metadata": {},
   "outputs": [],
   "source": [
    "from tqdm import tqdm\n",
    "\n",
    "def train(model, epochs: int, train_batches: list[torch.Tensor], validation_batches: list[torch.Tensor], n_timestamps: int = 10, learning_rate: float = 0.001):\n",
    "    # Check if GPU is available and use it; otherwise, use CPU\n",
    "    device = torch.device(\"cuda\" if torch.cuda.is_available() else \"cpu\")\n",
    "    print(f\"Training on {device}\")\n",
    "    \n",
    "    # Move the model to the appropriate device\n",
    "    model.to(device)\n",
    "\n",
    "    # Set up the loss function and optimizer\n",
    "    lossFunction = torch.nn.MSELoss()\n",
    "    optimizer = torch.optim.Adam(model.parameters(), lr=learning_rate)\n",
    "\n",
    "    training_loss_progression = []\n",
    "    validation_loss_progression = []\n",
    "\n",
    "    # Training loop\n",
    "    for epoch in range(epochs):\n",
    "        model.train() # Set the model to training mode\n",
    "        totalLoss = 0\n",
    "        random.shuffle(train_batches) # Shuffling the training batches\n",
    "        for i in tqdm(range(len(train_batches))):\n",
    "            # Prepare Data and move it to the appropriate device\n",
    "            batch = train_batches[i]\n",
    "            x = batch[:,:,:-1].to(device)\n",
    "            t = batch[:,-1,-1].reshape(-1,1).to(device)\n",
    "\n",
    "            # Zero the parameter gradients\n",
    "            optimizer.zero_grad()\n",
    "\n",
    "            # Forward + backward + optimize\n",
    "            y = model(x)\n",
    "            loss = lossFunction(y, t)\n",
    "            loss.backward()\n",
    "            torch.nn.utils.clip_grad_norm_(model.parameters(), max_norm=1.0) # Clipping the gradient to avoid exploding gradients\n",
    "            optimizer.step()\n",
    "\n",
    "            # Storing the batch loss\n",
    "            totalLoss += loss.item()\n",
    "        # Storing the epoch training loss\n",
    "        training_loss_progression.append(totalLoss)\n",
    "\n",
    "        # Validation loop\n",
    "        model.eval()\n",
    "        with torch.no_grad():\n",
    "            totalLoss = 0\n",
    "            for i in tqdm(range(len(validation_batches))):\n",
    "                # Prepare Data and move it to the appropriate device\n",
    "                batch = validation_batches[i]\n",
    "                x = batch[:,:,:-1].to(device)\n",
    "                t = batch[:,-1,-1].reshape(-1,1).to(device)\n",
    "\n",
    "                # Forward pass: compute the model's predictions\n",
    "                y = model(x)\n",
    "\n",
    "                # Comput batch loss and store it\n",
    "                loss = lossFunction(y, t)\n",
    "                totalLoss += loss.item()\n",
    "            # Storing the epoch validation loss\n",
    "            validation_loss_progression.append(totalLoss)\n",
    "\n",
    "\n",
    "    return training_loss_progression, validation_loss_progression"
   ]
  },
  {
   "cell_type": "code",
   "execution_count": 7,
   "metadata": {},
   "outputs": [],
   "source": [
    "#hyperparameters and utilities\n",
    "sequence_length = 10\n",
    "batch_size = 64\n",
    "n_head = 13\n",
    "learning_rate = 0.005\n",
    "epochs = 5\n",
    "dropout_rate = 0.3\n",
    "hidden_size = 25"
   ]
  },
  {
   "cell_type": "code",
   "execution_count": 11,
   "metadata": {},
   "outputs": [
    {
     "name": "stdout",
     "output_type": "stream",
     "text": [
      "Number of Trainable Parameters: 140206\n"
     ]
    }
   ],
   "source": [
    "#instantiate model\n",
    "model = IMHAMomentumTransformer(d_model=65, n_head=n_head, dropout_rate=dropout_rate, hidden_size=hidden_size)\n",
    "trainable_params = sum(p.numel() for p in model.parameters() if p.requires_grad)\n",
    "print(f'Number of Trainable Parameters: {trainable_params}')"
   ]
  },
  {
   "cell_type": "code",
   "execution_count": null,
   "metadata": {},
   "outputs": [],
   "source": [
    "training_loss, validation_loss = train(model, epochs=epochs, train_batches=batches_train,  validation_batches=batches_val, n_timestamps=sequence_length, learning_rate=learning_rate)"
   ]
  },
  {
   "cell_type": "code",
   "execution_count": null,
   "metadata": {},
   "outputs": [],
   "source": [
    "import numpy as np\n",
    "from matplotlib import pyplot as plt\n",
    "\n",
    "# Calculating average training and validation loss\n",
    "avg_train_loss = np.array(training_loss) / len(batches_train)\n",
    "avg_val_loss = np.array(validation_loss) / len(batches_val)\n",
    "\n",
    "fig, ax1 = plt.subplots()\n",
    "\n",
    "# Plotting training loss on the primary y-axis\n",
    "ax1.plot(training_loss, 'b-')  # 'b-' sets the color blue and a solid line\n",
    "ax1.set_xlabel('Epochs')\n",
    "ax1.set_ylabel('Training Loss', color='b')  # Set the color of the y-axis label to blue\n",
    "ax1.tick_params(axis='y', labelcolor='b')\n",
    "\n",
    "# Create a second y-axis for the validation loss\n",
    "ax2 = ax1.twinx()\n",
    "ax2.plot(validation_loss, 'r-')  # 'r-' sets the color red and a solid line\n",
    "ax2.set_ylabel('Validation Loss', color='r')  # Set the color of the y-axis label to red\n",
    "ax2.tick_params(axis='y', labelcolor='r')\n",
    "\n",
    "# Adding a title and a legend\n",
    "plt.title(\"Loss Progressions\")\n",
    "fig.tight_layout()  # Adjust the layout to make room for the second y-axis\n",
    "plt.show()\n"
   ]
  },
  {
   "cell_type": "markdown",
   "metadata": {},
   "source": [
    "## Hyperparameter Optimization with Random Gridsearch"
   ]
  },
  {
   "cell_type": "code",
   "execution_count": 5,
   "metadata": {},
   "outputs": [],
   "source": [
    "from sklearn.model_selection import ParameterSampler\n",
    "from data_handling import complete_data_preparation"
   ]
  },
  {
   "cell_type": "code",
   "execution_count": 11,
   "metadata": {},
   "outputs": [],
   "source": [
    "model_name = \"IMHAMomentumTransformer\"\n",
    "\n",
    "# Number of Parameter Combinations that will be evaluated\n",
    "num_samples = 10 \n",
    "param_grid = {\n",
    "    'hidden_size': [5, 10, 20],\n",
    "    'learning_rate': [0.01, 0.001, 0.0001],\n",
    "    'epochs': [10, 50, 100], \n",
    "    'attention_heads': [5, 13], # the dimension of the features (65) must be divisible by this\n",
    "    'sequence_length': [10, 30],\n",
    "    'batch_size': [64, 128],\n",
    "    'dropout_rate': [0.2, 0.3],\n",
    "}\n",
    "\n",
    "param_list = list(ParameterSampler(param_grid, n_iter=num_samples))"
   ]
  },
  {
   "cell_type": "code",
   "execution_count": null,
   "metadata": {},
   "outputs": [],
   "source": [
    "# Perform random search over the hyperparameters\n",
    "best_loss = float('inf')\n",
    "best_params = None\n",
    "for params in param_list:\n",
    "    batches_train, batches_validation, _ = complete_data_preparation(sequence_length=params['sequence_length'], batch_size=params['batch_size'])\n",
    "    model = IMHAMomentumTransformer(d_model=65, n_head=params['attention_heads'], dropout_rate=params['dropout_rate'], hidden_size=params['hidden_size'])\n",
    "    training_loss, validation_loss = train(model, epochs=params['heads'], train_batches=batches_train,  validation_batches=batches_val, n_timestamps=params['sequence_length'], learning_rate=params['learning_rate'])\n",
    "    loss = validation_loss[-1]\n",
    "    print(f\"Validation Losses: {validation_loss}\")\n",
    "    print(f\"Tested Params: {params}, Loss: {loss}\")\n",
    "    if loss < best_loss:\n",
    "        best_loss = loss\n",
    "        best_params = params\n",
    "        best_model = model\n",
    "\n",
    "print(f\"Hyperparameter Opimization for {model_name}\")\n",
    "print(f\"Best Parameters: {best_params}, Loss: {best_loss}\")"
   ]
  },
  {
   "cell_type": "markdown",
   "metadata": {},
   "source": [
    "## Dump the model to save the weights"
   ]
  },
  {
   "cell_type": "code",
   "execution_count": null,
   "metadata": {},
   "outputs": [],
   "source": [
    "model_saving_path = \"modelDumps/\" + model_name + \".pt\"\n",
    "import os\n",
    "if not os.path.exists('modelDumps'):\n",
    "    os.makedirs('modelDumps')\n",
    "torch.save(best_model, model_saving_path)"
   ]
  }
 ],
 "metadata": {
  "kernelspec": {
   "display_name": "Python 3",
   "language": "python",
   "name": "python3"
  },
  "language_info": {
   "codemirror_mode": {
    "name": "ipython",
    "version": 3
   },
   "file_extension": ".py",
   "mimetype": "text/x-python",
   "name": "python",
   "nbconvert_exporter": "python",
   "pygments_lexer": "ipython3",
   "version": "3.12.3"
  }
 },
 "nbformat": 4,
 "nbformat_minor": 2
}
